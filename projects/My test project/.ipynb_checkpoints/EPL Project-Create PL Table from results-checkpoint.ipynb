{
 "cells": [
  {
   "cell_type": "code",
   "execution_count": 42,
   "id": "21a1a835",
   "metadata": {},
   "outputs": [
    {
     "name": "stdout",
     "output_type": "stream",
     "text": [
      "  Div      Date     HomeTeam        AwayTeam  FTHG  FTAG FTR  HTHG  HTAG  HTR  \\\n",
      "0  E0  14/08/93      Arsenal        Coventry     0     3   A   NaN   NaN  NaN   \n",
      "1  E0  14/08/93  Aston Villa             QPR     4     1   H   NaN   NaN  NaN   \n",
      "2  E0  14/08/93      Chelsea       Blackburn     1     2   A   NaN   NaN  NaN   \n",
      "3  E0  14/08/93    Liverpool  Sheffield Weds     2     0   H   NaN   NaN  NaN   \n",
      "4  E0  14/08/93     Man City           Leeds     1     1   D   NaN   NaN  NaN   \n",
      "\n",
      "    Season  \n",
      "0  1993-94  \n",
      "1  1993-94  \n",
      "2  1993-94  \n",
      "3  1993-94  \n",
      "4  1993-94  \n"
     ]
    }
   ],
   "source": [
    "# Import pandas\n",
    "import pandas as pd\n",
    "import numpy as np\n",
    "import matplotlib.pyplot as plt\n",
    "from sklearn.preprocessing import LabelEncoder\n",
    "\n",
    "le = LabelEncoder()\n",
    "\n",
    "# Load dataset\n",
    "df = pd.read_csv(\"datasets/EPL_Set.csv\")\n",
    "\n",
    "# Inspect data\n",
    "print(df.head())"
   ]
  },
  {
   "cell_type": "code",
   "execution_count": 43,
   "id": "44c8e578",
   "metadata": {},
   "outputs": [
    {
     "name": "stdout",
     "output_type": "stream",
     "text": [
      "<class 'pandas.core.frame.DataFrame'>\n",
      "RangeIndex: 9664 entries, 0 to 9663\n",
      "Data columns (total 11 columns):\n",
      " #   Column    Non-Null Count  Dtype  \n",
      "---  ------    --------------  -----  \n",
      " 0   Div       9664 non-null   object \n",
      " 1   Date      9664 non-null   object \n",
      " 2   HomeTeam  9664 non-null   object \n",
      " 3   AwayTeam  9664 non-null   object \n",
      " 4   FTHG      9664 non-null   int64  \n",
      " 5   FTAG      9664 non-null   int64  \n",
      " 6   FTR       9664 non-null   object \n",
      " 7   HTHG      8740 non-null   float64\n",
      " 8   HTAG      8740 non-null   float64\n",
      " 9   HTR       8740 non-null   object \n",
      " 10  Season    9664 non-null   object \n",
      "dtypes: float64(2), int64(2), object(7)\n",
      "memory usage: 830.6+ KB\n",
      "None\n"
     ]
    }
   ],
   "source": [
    "# Print DataFrame information\n",
    "print(df.info())"
   ]
  },
  {
   "cell_type": "code",
   "execution_count": 44,
   "id": "3ab748f4",
   "metadata": {},
   "outputs": [
    {
     "name": "stdout",
     "output_type": "stream",
     "text": [
      "              FTHG         FTAG         HTHG         HTAG\n",
      "count  9664.000000  9664.000000  8740.000000  8740.000000\n",
      "mean      1.523903     1.121482     0.685469     0.488444\n",
      "std       1.301671     1.121667     0.833581     0.710524\n",
      "min       0.000000     0.000000     0.000000     0.000000\n",
      "25%       1.000000     0.000000     0.000000     0.000000\n",
      "50%       1.000000     1.000000     0.000000     0.000000\n",
      "75%       2.000000     2.000000     1.000000     1.000000\n",
      "max       9.000000     8.000000     5.000000     5.000000\n"
     ]
    }
   ],
   "source": [
    "# Print summary statistics\n",
    "print(df.describe())\n"
   ]
  },
  {
   "cell_type": "code",
   "execution_count": 138,
   "id": "bd3864e9",
   "metadata": {},
   "outputs": [],
   "source": [
    "df[\"Home CS\"] = np.where(df['FTAG'] == 0, 1, 0)\n",
    "df[\"Away CS\"] = np.where(df['FTHG'] == 0, 1, 0)\n",
    "df[\"Home Win\"] = np.where(df['FTR'] == 'H', 3, 0)\n",
    "df[\"Home Win Count\"] = np.where(df['FTR'] == 'H', 1, 0)\n",
    "df[\"Home Loss Count\"] = np.where(df['FTR'] == 'A', 1, 0)\n",
    "df[\"Away Win\"] = np.where(df['FTR'] == 'A', 3, 0)\n",
    "df[\"Away Win Count\"] = np.where(df['FTR'] == 'A', 1, 0)\n",
    "df[\"Away Loss Count\"] = np.where(df['FTR'] == 'H', 1, 0)\n",
    "df[\"Draw Count\"] = np.where(df['FTR'] == 'D', 1, 0)\n",
    "df[\"Draw Pts\"] = np.where(df['FTR'] == 'D', 1, 0)\n",
    "df[\"Home Pts\"] = df['Home Win']+df['Draw']\n",
    "df[\"Away Pts\"] = df['Away Win']+df['Draw']\n",
    "df[\"FTHGn\"] = df['FTHG'] * -1\n",
    "df[\"FTAGn\"] = df['FTAG'] * -1"
   ]
  },
  {
   "cell_type": "code",
   "execution_count": 139,
   "id": "1b1aa231",
   "metadata": {},
   "outputs": [
    {
     "name": "stdout",
     "output_type": "stream",
     "text": [
      "     Div      Date     HomeTeam        AwayTeam  FTHG  FTAG FTR  HTHG  HTAG  \\\n",
      "0     E0  14/08/93      Arsenal        Coventry     0     3   A   NaN   NaN   \n",
      "1     E0  14/08/93  Aston Villa             QPR     4     1   H   NaN   NaN   \n",
      "2     E0  14/08/93      Chelsea       Blackburn     1     2   A   NaN   NaN   \n",
      "3     E0  14/08/93    Liverpool  Sheffield Weds     2     0   H   NaN   NaN   \n",
      "4     E0  14/08/93     Man City           Leeds     1     1   D   NaN   NaN   \n",
      "...   ..       ...          ...             ...   ...   ...  ..   ...   ...   \n",
      "9659  E0  13/05/18    Newcastle         Chelsea     3     0   H   1.0   0.0   \n",
      "9660  E0  13/05/18  Southampton        Man City     0     1   A   0.0   0.0   \n",
      "9661  E0  13/05/18      Swansea           Stoke     1     2   A   1.0   2.0   \n",
      "9662  E0  13/05/18    Tottenham       Leicester     5     4   H   1.0   2.0   \n",
      "9663  E0  13/05/18     West Ham         Everton     3     1   H   1.0   0.0   \n",
      "\n",
      "      HTR  ... FTHGn  FTAGn  Home CS  Away CS  Home Win Count  Away Win Count  \\\n",
      "0     NaN  ...     0     -3        0        1               0               1   \n",
      "1     NaN  ...    -4     -1        0        0               1               0   \n",
      "2     NaN  ...    -1     -2        0        0               0               1   \n",
      "3     NaN  ...    -2      0        1        0               1               0   \n",
      "4     NaN  ...    -1     -1        0        0               0               0   \n",
      "...   ...  ...   ...    ...      ...      ...             ...             ...   \n",
      "9659    H  ...    -3      0        1        0               1               0   \n",
      "9660    D  ...     0     -1        0        1               0               1   \n",
      "9661    A  ...    -1     -2        0        0               0               1   \n",
      "9662    A  ...    -5     -4        0        0               1               0   \n",
      "9663    H  ...    -3     -1        0        0               1               0   \n",
      "\n",
      "      Home Loss Count  Away Loss Count  Draw Count  Draw Pts  \n",
      "0                   1                0           0         0  \n",
      "1                   0                1           0         0  \n",
      "2                   1                0           0         0  \n",
      "3                   0                1           0         0  \n",
      "4                   0                0           1         1  \n",
      "...               ...              ...         ...       ...  \n",
      "9659                0                1           0         0  \n",
      "9660                1                0           0         0  \n",
      "9661                1                0           0         0  \n",
      "9662                0                1           0         0  \n",
      "9663                0                1           0         0  \n",
      "\n",
      "[9664 rows x 26 columns]\n"
     ]
    }
   ],
   "source": [
    "print(df)"
   ]
  },
  {
   "cell_type": "code",
   "execution_count": 140,
   "id": "40e45c00",
   "metadata": {},
   "outputs": [
    {
     "name": "stdout",
     "output_type": "stream",
     "text": [
      "                      W  D   L  Points  GF  GA  CS\n",
      "Season  HomeTeam                                  \n",
      "1993-94 Arsenal      10  8   3      38  25 -15  11\n",
      "        Aston Villa   8  5   8      29  23 -18   9\n",
      "        Blackburn    14  5   2      47  31 -11  13\n",
      "        Chelsea      11  5   5      38  31 -20   9\n",
      "        Coventry      9  7   5      34  23 -17   6\n",
      "...                  .. ..  ..     ...  ..  ..  ..\n",
      "2017-18 Swansea       6  3  10      21  17 -24   5\n",
      "        Tottenham    13  4   2      43  40 -16  10\n",
      "        Watford       7  6   6      27  27 -31   5\n",
      "        West Brom     3  9   7      18  21 -29   6\n",
      "        West Ham      7  6   6      27  24 -26   7\n",
      "\n",
      "[504 rows x 7 columns]\n",
      "                      W  D   L  Points  GF  GA  CS\n",
      "Season  AwayTeam                                  \n",
      "1993-94 Arsenal       8  9   4      33  28 -13  10\n",
      "        Aston Villa   7  7   7      28  23 -32   4\n",
      "        Blackburn    11  4   6      37  32 -25   5\n",
      "        Chelsea       2  7  12      13  18 -33   2\n",
      "        Coventry      5  7   9      22  20 -28   7\n",
      "...                  .. ..  ..     ...  ..  ..  ..\n",
      "2017-18 Swansea       2  6  11      12  11 -32   4\n",
      "        Tottenham    10  4   5      34  34 -20   6\n",
      "        Watford       4  2  13      14  17 -33   4\n",
      "        West Brom     3  4  12      13  10 -27   4\n",
      "        West Ham      3  6  10      15  24 -42   3\n",
      "\n",
      "[504 rows x 7 columns]\n"
     ]
    },
    {
     "name": "stderr",
     "output_type": "stream",
     "text": [
      "C:\\Users\\riju_\\AppData\\Local\\Temp/ipykernel_2340/2879862180.py:1: FutureWarning: Indexing with multiple keys (implicitly converted to a tuple of keys) will be deprecated, use a list instead.\n",
      "  df2 = df.groupby(['Season','HomeTeam'])['Home Win Count', 'Draw Count', 'Home Loss Count', 'Home Pts', 'FTHG', 'FTAGn', 'Home CS'].sum()\n",
      "C:\\Users\\riju_\\AppData\\Local\\Temp/ipykernel_2340/2879862180.py:11: FutureWarning: Indexing with multiple keys (implicitly converted to a tuple of keys) will be deprecated, use a list instead.\n",
      "  df3 = df.groupby(['Season','AwayTeam'])['Away Win Count', 'Draw Count', 'Away Loss Count','Away Pts','FTAG', 'FTHGn', 'Away CS'].sum()\n"
     ]
    }
   ],
   "source": [
    "df2 = df.groupby(['Season','HomeTeam'])['Home Win Count', 'Draw Count', 'Home Loss Count', 'Home Pts', 'FTHG', 'FTAGn', 'Home CS'].sum()\n",
    "df2 = df2.rename(columns={'Season': 'Season',\n",
    "                          'HomeTeam': 'Team', \n",
    "                          'Home Win Count': 'W',\n",
    "                          'Draw Count': 'D',\n",
    "                          'Home Loss Count': 'L',\n",
    "                          'Home Pts': 'Points', \n",
    "                          'FTHG': 'GF', \n",
    "                          'FTAGn':'GA',\n",
    "                          'Home CS': 'CS'})\n",
    "df3 = df.groupby(['Season','AwayTeam'])['Away Win Count', 'Draw Count', 'Away Loss Count','Away Pts','FTAG', 'FTHGn', 'Away CS'].sum()\n",
    "df3 = df3.rename(columns={'Season': 'Season',\n",
    "                          'AwayTeam': 'Team', \n",
    "                          'Away Win Count': 'W',\n",
    "                          'Draw Count': 'D',\n",
    "                          'Away Loss Count': 'L',\n",
    "                          'Away Pts': 'Points',\n",
    "                          'Away Win Count': 'W',\n",
    "                          'FTAG': 'GF', \n",
    "                          'FTHGn':'GA',\n",
    "                          'Away CS': 'CS'})\n",
    "print(df2)\n",
    "print(df3)"
   ]
  },
  {
   "cell_type": "code",
   "execution_count": 141,
   "id": "d0558acd",
   "metadata": {},
   "outputs": [],
   "source": [
    "frames = [df2,df3]"
   ]
  },
  {
   "cell_type": "code",
   "execution_count": 142,
   "id": "6999c8a9",
   "metadata": {},
   "outputs": [],
   "source": [
    "result = pd.concat(frames)"
   ]
  },
  {
   "cell_type": "code",
   "execution_count": 143,
   "id": "8fab57ba",
   "metadata": {},
   "outputs": [
    {
     "name": "stdout",
     "output_type": "stream",
     "text": [
      "                      W  D   L  Points  GF  GA  CS\n",
      "Season  HomeTeam                                  \n",
      "1993-94 Arsenal      10  8   3      38  25 -15  11\n",
      "        Aston Villa   8  5   8      29  23 -18   9\n",
      "        Blackburn    14  5   2      47  31 -11  13\n",
      "        Chelsea      11  5   5      38  31 -20   9\n",
      "        Coventry      9  7   5      34  23 -17   6\n",
      "...                  .. ..  ..     ...  ..  ..  ..\n",
      "2017-18 Swansea       2  6  11      12  11 -32   4\n",
      "        Tottenham    10  4   5      34  34 -20   6\n",
      "        Watford       4  2  13      14  17 -33   4\n",
      "        West Brom     3  4  12      13  10 -27   4\n",
      "        West Ham      3  6  10      15  24 -42   3\n",
      "\n",
      "[1008 rows x 7 columns]\n"
     ]
    }
   ],
   "source": [
    "print(result)"
   ]
  },
  {
   "cell_type": "code",
   "execution_count": 147,
   "id": "57a660ef",
   "metadata": {},
   "outputs": [
    {
     "name": "stderr",
     "output_type": "stream",
     "text": [
      "C:\\Users\\riju_\\AppData\\Local\\Temp/ipykernel_2340/2654217901.py:1: FutureWarning: Indexing with multiple keys (implicitly converted to a tuple of keys) will be deprecated, use a list instead.\n",
      "  final_points = result.groupby(['Season','HomeTeam'])['Points','W', 'D', 'L', 'GF', 'GA','CS'].sum()\n"
     ]
    }
   ],
   "source": [
    "final_points = result.groupby(['Season','HomeTeam'])['Points','W', 'D', 'L', 'GF', 'GA','CS'].sum()"
   ]
  },
  {
   "cell_type": "code",
   "execution_count": 152,
   "id": "6f5ca683",
   "metadata": {},
   "outputs": [
    {
     "name": "stdout",
     "output_type": "stream",
     "text": [
      "                        PLD   W   D   L   GF  GA  GD  CS  Points\n",
      "Season  HomeTeam                                                \n",
      "2015-16 Everton          38  11  14  13   59 -55   4  10      47\n",
      "        Swansea          38  12  11  15   42 -52 -10   9      47\n",
      "        Watford          38  12   9  17   40 -50 -10  11      45\n",
      "        West Brom        38  10  13  15   34 -48 -14  11      43\n",
      "        Crystal Palace   38  11   9  18   39 -51 -12   8      42\n",
      "        Bournemouth      38  11   9  18   45 -67 -22   7      42\n",
      "        Sunderland       38   9  12  17   48 -62 -14   7      39\n",
      "        Newcastle        38   9  10  19   44 -65 -21   8      37\n",
      "        Norwich          38   9   7  22   39 -67 -28   5      34\n",
      "        Aston Villa      38   3   8  27   27 -76 -49   6      17\n",
      "2016-17 Chelsea          38  30   3   5   85 -33  52  16      93\n",
      "        Tottenham        38  26   8   4   86 -26  60  17      86\n",
      "        Man City         38  23   9   6   80 -39  41  12      78\n",
      "        Liverpool        38  22  10   6   78 -42  36  12      76\n",
      "        Arsenal          38  23   6   9   77 -44  33  13      75\n",
      "        Man United       38  18  15   5   54 -29  25  17      69\n",
      "        Everton          38  17  10  11   62 -44  18  13      61\n",
      "        Southampton      38  12  10  16   41 -48  -7  14      46\n",
      "        Bournemouth      38  12  10  16   55 -67 -12  10      46\n",
      "        West Brom        38  12   9  17   43 -51  -8   6      45\n",
      "        West Ham         38  12   9  17   47 -64 -17  10      45\n",
      "        Leicester        38  12   8  18   48 -63 -15   9      44\n",
      "        Stoke            38  11  11  16   41 -56 -15  11      44\n",
      "        Crystal Palace   38  12   5  21   50 -63 -13   7      41\n",
      "        Swansea          38  12   5  21   45 -70 -25   8      41\n",
      "        Burnley          38  11   7  20   39 -55 -16  10      40\n",
      "        Watford          38  11   7  20   40 -68 -28   7      40\n",
      "        Hull             38   9   7  22   37 -80 -43   5      34\n",
      "        Middlesbrough    38   5  13  20   27 -53 -26  11      28\n",
      "        Sunderland       38   6   6  26   29 -69 -40   6      24\n",
      "2017-18 Man City         38  32   4   2  106 -27  79  18     100\n",
      "        Man United       38  25   6   7   68 -28  40  19      81\n",
      "        Tottenham        38  23   8   7   74 -36  38  16      77\n",
      "        Liverpool        38  21  12   5   84 -38  46  17      75\n",
      "        Chelsea          38  21   7  10   62 -38  24  16      70\n",
      "        Arsenal          38  19   6  13   74 -51  23  13      63\n",
      "        Burnley          38  14  12  12   36 -39  -3  12      54\n",
      "        Everton          38  13  10  15   44 -58 -14  10      49\n",
      "        Leicester        38  12  11  15   56 -60  -4   9      47\n",
      "        Newcastle        38  12   8  18   39 -47  -8   9      44\n",
      "        Crystal Palace   38  11  11  16   45 -55 -10   9      44\n",
      "        Bournemouth      38  11  11  16   45 -61 -16   6      44\n",
      "        West Ham         38  10  12  16   48 -68 -20  10      42\n",
      "        Watford          38  11   8  19   44 -64 -20   9      41\n",
      "        Brighton         38   9  13  16   34 -54 -20  10      40\n",
      "        Huddersfield     38   9  10  19   28 -58 -30  10      37\n",
      "        Southampton      38   7  15  16   37 -56 -19   8      36\n",
      "        Swansea          38   8   9  21   28 -56 -28   9      33\n",
      "        Stoke            38   7  12  19   35 -68 -33   6      33\n",
      "        West Brom        38   6  13  19   31 -56 -25  10      31\n"
     ]
    }
   ],
   "source": [
    "final_points['GD'] = final_points['GF'] + final_points['GA']\n",
    "final_points['PLD'] = final_points['W'] + final_points['D']+ final_points['L']\n",
    "final_points = final_points.sort_values(['Season','Points','GD','GF'], ascending = (True, False, False, False))\n",
    "final_points = final_points[['PLD', 'W', 'D','L', 'GF','GA', 'GD','CS','Points']]\n",
    "print(final_points.tail(50))"
   ]
  },
  {
   "cell_type": "code",
   "execution_count": 131,
   "id": "824b54d6",
   "metadata": {},
   "outputs": [
    {
     "name": "stdout",
     "output_type": "stream",
     "text": [
      "  Div      Date     HomeTeam        AwayTeam  FTHG  FTAG FTR  HTHG  HTAG  HTR  \\\n",
      "0  E0  14/08/93      Arsenal        Coventry     0     3   A   NaN   NaN  NaN   \n",
      "1  E0  14/08/93  Aston Villa             QPR     4     1   H   NaN   NaN  NaN   \n",
      "2  E0  14/08/93      Chelsea       Blackburn     1     2   A   NaN   NaN  NaN   \n",
      "3  E0  14/08/93    Liverpool  Sheffield Weds     2     0   H   NaN   NaN  NaN   \n",
      "4  E0  14/08/93     Man City           Leeds     1     1   D   NaN   NaN  NaN   \n",
      "\n",
      "   ... FTHGn  FTAGn  Home CS  Away CS  Home Win Count  Away Win Count  \\\n",
      "0  ...     0     -3        0        1               0               1   \n",
      "1  ...    -4     -1        0        0               1               0   \n",
      "2  ...    -1     -2        0        0               0               1   \n",
      "3  ...    -2      0        1        0               1               0   \n",
      "4  ...    -1     -1        0        0               0               0   \n",
      "\n",
      "   Home Loss Count  Away Loss Count  Draw Count  Draw Pts  \n",
      "0                1                0           0         0  \n",
      "1                0                1           0         0  \n",
      "2                1                0           0         0  \n",
      "3                0                1           0         0  \n",
      "4                0                0           1         1  \n",
      "\n",
      "[5 rows x 26 columns]\n"
     ]
    }
   ],
   "source": [
    "print(df.head())"
   ]
  },
  {
   "cell_type": "code",
   "execution_count": null,
   "id": "053c0b19",
   "metadata": {},
   "outputs": [],
   "source": []
  },
  {
   "cell_type": "code",
   "execution_count": 212,
   "id": "af6bbd95",
   "metadata": {},
   "outputs": [],
   "source": [
    "df.Team_le = le.fit_transform(df.Team_le)"
   ]
  },
  {
   "cell_type": "code",
   "execution_count": 213,
   "id": "2fdcf1e2",
   "metadata": {},
   "outputs": [
    {
     "name": "stdout",
     "output_type": "stream",
     "text": [
      "     Season  Pos               Team  Pld   W   D   L  GF  GA  GD  Pts  \\\n",
      "0   2000-01    1  Manchester United   38  24   8   6  79  31  48   80   \n",
      "1   2000-01    2            Arsenal   38  20  10   8  63  38  25   70   \n",
      "2   2000-01    3          Liverpool   38  20   9   9  71  39  32   69   \n",
      "3   2000-01    4       Leeds United   38  20   8  10  64  43  21   68   \n",
      "4   2000-01    5       Ipswich Town   38  20   6  12  57  42  15   66   \n",
      "5   2000-01    6            Chelsea   38  17  10  11  68  45  23   61   \n",
      "6   2000-01    7         Sunderland   38  15  12  11  46  41   5   57   \n",
      "7   2000-01    8        Aston Villa   38  13  15  10  46  43   3   54   \n",
      "8   2000-01    9  Charlton Athletic   38  14  10  14  50  57  -7   52   \n",
      "9   2000-01   10        Southampton   38  14  10  14  40  48  -8   52   \n",
      "10  2000-01   11   Newcastle United   38  14   9  15  44  50  -6   51   \n",
      "11  2000-01   12  Tottenham Hotspur   38  13  10  15  47  54  -7   49   \n",
      "12  2000-01   13     Leicester City   38  14   6  18  39  51 -12   48   \n",
      "13  2000-01   14      Middlesbrough   38   9  15  14  44  44   0   42   \n",
      "14  2000-01   15    West Ham United   38  10  12  16  45  50  -5   42   \n",
      "15  2000-01   16            Everton   38  11   9  18  45  59 -14   42   \n",
      "16  2000-01   17       Derby County   38  10  12  16  37  59 -22   42   \n",
      "17  2000-01   18    Manchester City   38   8  10  20  41  65 -24   34   \n",
      "18  2000-01   19      Coventry City   38   8  10  20  36  63 -27   34   \n",
      "19  2000-01   20      Bradford City   38   5  11  22  30  70 -40   26   \n",
      "20  2001-02    1            Arsenal   38  26   9   3  79  36  43   87   \n",
      "21  2001-02    2          Liverpool   38  24   8   6  67  30  37   80   \n",
      "22  2001-02    3  Manchester United   38  24   5   9  87  45  42   77   \n",
      "23  2001-02    4   Newcastle United   38  21   8   9  74  52  22   71   \n",
      "24  2001-02    5       Leeds United   38  18  12   8  53  37  16   66   \n",
      "25  2001-02    6            Chelsea   38  17  13   8  66  38  28   64   \n",
      "26  2001-02    7    West Ham United   38  15   8  15  48  57  -9   53   \n",
      "27  2001-02    8        Aston Villa   38  12  14  12  46  47  -1   50   \n",
      "28  2001-02    9  Tottenham Hotspur   38  14   8  16  49  53  -4   50   \n",
      "29  2001-02   10   Blackburn Rovers   38  12  10  16  55  51   4   46   \n",
      "30  2001-02   11        Southampton   38  12   9  17  46  54  -8   45   \n",
      "31  2001-02   12      Middlesbrough   38  12   9  17  35  47 -12   45   \n",
      "32  2001-02   13             Fulham   38  10  14  14  36  44  -8   44   \n",
      "33  2001-02   14  Charlton Athletic   38  10  14  14  38  49 -11   44   \n",
      "34  2001-02   15            Everton   38  11  10  17  45  57 -12   43   \n",
      "35  2001-02   16   Bolton Wanderers   38   9  13  16  44  62 -18   40   \n",
      "36  2001-02   17         Sunderland   38  10  10  18  29  51 -22   40   \n",
      "37  2001-02   18       Ipswich Town   38   9   9  20  41  64 -23   36   \n",
      "38  2001-02   19       Derby County   38   8   6  24  33  63 -30   30   \n",
      "39  2001-02   20     Leicester City   38   5  13  20  30  64 -34   28   \n",
      "40  2002-03    1  Manchester United   38  25   8   5  74  34  40   83   \n",
      "41  2002-03    2            Arsenal   38  23   9   6  85  42  43   78   \n",
      "42  2002-03    3   Newcastle United   38  21   6  11  63  48  15   69   \n",
      "43  2002-03    4            Chelsea   38  19  10   9  68  38  30   67   \n",
      "44  2002-03    5          Liverpool   38  18  10  10  61  41  20   64   \n",
      "45  2002-03    6   Blackburn Rovers   38  16  12  10  52  43   9   60   \n",
      "46  2002-03    7            Everton   38  17   8  13  48  49  -1   59   \n",
      "47  2002-03    8        Southampton   38  13  13  12  43  46  -3   52   \n",
      "48  2002-03    9    Manchester City   38  15   6  17  47  54  -7   51   \n",
      "49  2002-03   10  Tottenham Hotspur   38  14   8  16  51  62 -11   50   \n",
      "\n",
      "                          Qualification or relegation  Team_le  \n",
      "0   Qualification for the Champions League first g...       26  \n",
      "1   Qualification for the Champions League first g...        0  \n",
      "2   Qualification for the Champions League third q...       24  \n",
      "3       Qualification for the UEFA Cup first round[a]       22  \n",
      "4       Qualification for the UEFA Cup first round[a]       21  \n",
      "5       Qualification for the UEFA Cup first round[a]       13  \n",
      "6                                      Not Applicable       36  \n",
      "7     Qualification for the Intertoto Cup third round        1  \n",
      "8                                      Not Applicable       12  \n",
      "9                                      Not Applicable       34  \n",
      "10    Qualification for the Intertoto Cup third round       28  \n",
      "11                                     Not Applicable       38  \n",
      "12                                     Not Applicable       23  \n",
      "13                                     Not Applicable       27  \n",
      "14                                     Not Applicable       41  \n",
      "15                                     Not Applicable       17  \n",
      "16                                     Not Applicable       16  \n",
      "17   Relegation to the Football League First Division       25  \n",
      "18   Relegation to the Football League First Division       14  \n",
      "19   Relegation to the Football League First Division        7  \n",
      "20  Qualification for the Champions League first g...        0  \n",
      "21  Qualification for the Champions League first g...       24  \n",
      "22  Qualification for the Champions League third q...       26  \n",
      "23  Qualification for the Champions League third q...       28  \n",
      "24      Qualification for the UEFA Cup first round[b]       22  \n",
      "25      Qualification for the UEFA Cup first round[b]       13  \n",
      "26                                     Not Applicable       41  \n",
      "27    Qualification for the Intertoto Cup third round        1  \n",
      "28                                     Not Applicable       38  \n",
      "29      Qualification for the UEFA Cup first round[c]        3  \n",
      "30                                     Not Applicable       34  \n",
      "31                                     Not Applicable       27  \n",
      "32   Qualification for the Intertoto Cup second round       18  \n",
      "33                                     Not Applicable       12  \n",
      "34                                     Not Applicable       17  \n",
      "35                                     Not Applicable        5  \n",
      "36                                     Not Applicable       36  \n",
      "37  Qualification for the UEFA Cup qualifying roun...       21  \n",
      "38   Relegation to the Football League First Division       16  \n",
      "39   Relegation to the Football League First Division       23  \n",
      "40  Qualification for the Champions League group s...       26  \n",
      "41  Qualification for the Champions League group s...        0  \n",
      "42  Qualification for the Champions League third q...       28  \n",
      "43  Qualification for the Champions League third q...       13  \n",
      "44      Qualification for the UEFA Cup first round[a]       24  \n",
      "45      Qualification for the UEFA Cup first round[a]        3  \n",
      "46                                     Not Applicable       17  \n",
      "47      Qualification for the UEFA Cup first round[b]       34  \n",
      "48  Qualification for the UEFA Cup qualifying roun...       25  \n",
      "49                                     Not Applicable       38  \n"
     ]
    }
   ],
   "source": [
    "print(df.head(50))"
   ]
  },
  {
   "cell_type": "code",
   "execution_count": 214,
   "id": "584ddb93",
   "metadata": {},
   "outputs": [],
   "source": [
    "PLChampions = df.loc[(df['Pos'] ==1)]                    "
   ]
  },
  {
   "cell_type": "code",
   "execution_count": 215,
   "id": "26a00c43",
   "metadata": {},
   "outputs": [
    {
     "name": "stdout",
     "output_type": "stream",
     "text": [
      "      Season  Pos               Team  Pld   W   D  L   GF  GA  GD  Pts  \\\n",
      "0    2000-01    1  Manchester United   38  24   8  6   79  31  48   80   \n",
      "20   2001-02    1            Arsenal   38  26   9  3   79  36  43   87   \n",
      "40   2002-03    1  Manchester United   38  25   8  5   74  34  40   83   \n",
      "60   2003-04    1            Arsenal   38  26  12  0   73  26  47   90   \n",
      "80   2004-05    1            Chelsea   38  29   8  1   72  15  57   95   \n",
      "100  2005-06    1            Chelsea   38  29   4  5   72  22  50   91   \n",
      "120  2006-07    1  Manchester United   38  28   5  5   83  27  56   89   \n",
      "140  2007-08    1  Manchester United   38  27   6  5   80  22  58   87   \n",
      "160  2008-09    1  Manchester United   38  28   6  4   68  24  44   90   \n",
      "180  2009-10    1            Chelsea   38  27   5  6  103  32  71   86   \n",
      "200  2010-11    1  Manchester United   38  23  11  4   78  37  41   80   \n",
      "220  2011-12    1    Manchester City   38  28   5  5   93  29  64   89   \n",
      "240  2012-13    1  Manchester United   38  28   5  5   86  43  43   89   \n",
      "260  2013-14    1    Manchester City   38  27   5  6  102  37  65   86   \n",
      "280  2014-15    1            Chelsea   38  26   9  3   73  32  41   87   \n",
      "300  2015-16    1     Leicester City   38  23  12  3   68  36  32   81   \n",
      "320  2016-17    1            Chelsea   38  30   3  5   85  33  52   93   \n",
      "340  2017-18    1    Manchester City   38  32   4  2  106  27  79  100   \n",
      "360  2018-19    1    Manchester City   38  32   2  4   95  23  72   98   \n",
      "380  2019-20    1          Liverpool   38  32   3  3   85  33  52   99   \n",
      "400  2020-21    1    Manchester City   38  27   5  6   83  32  51   86   \n",
      "420  2021-22    1    Manchester City   38  29   6  3   99  26  73   93   \n",
      "\n",
      "                           Qualification or relegation  Team_le  \n",
      "0    Qualification for the Champions League first g...       26  \n",
      "20   Qualification for the Champions League first g...        0  \n",
      "40   Qualification for the Champions League group s...       26  \n",
      "60   Qualification for the Champions League group s...        0  \n",
      "80   Qualification for the Champions League group s...       13  \n",
      "100  Qualification for the Champions League group s...       13  \n",
      "120  Qualification for the Champions League group s...       26  \n",
      "140  Qualification for the Champions League group s...       26  \n",
      "160  Qualification for the Champions League group s...       26  \n",
      "180  Qualification for the Champions League group s...       13  \n",
      "200  Qualification for the Champions League group s...       26  \n",
      "220  Qualification for the Champions League group s...       25  \n",
      "240  Qualification for the Champions League group s...       26  \n",
      "260  Qualification for the Champions League group s...       25  \n",
      "280  Qualification for the Champions League group s...       13  \n",
      "300  Qualification for the Champions League group s...       23  \n",
      "320  Qualification for the Champions League group s...       13  \n",
      "340  Qualification for the Champions League group s...       25  \n",
      "360  Qualification for the Champions League group s...       25  \n",
      "380  Qualification for the Champions League group s...       24  \n",
      "400  Qualification for the Champions League group s...       25  \n",
      "420  Qualification for the Champions League group s...       25  \n"
     ]
    }
   ],
   "source": [
    "print(PLChampions)"
   ]
  },
  {
   "cell_type": "code",
   "execution_count": 220,
   "id": "7d8c37ab",
   "metadata": {},
   "outputs": [],
   "source": [
    "PLECLQualifiers = df['Qualification or relegation'].str.match('Qualification for the Champions League.*')"
   ]
  },
  {
   "cell_type": "code",
   "execution_count": 221,
   "id": "17c44d61",
   "metadata": {},
   "outputs": [
    {
     "name": "stdout",
     "output_type": "stream",
     "text": [
      "0       True\n",
      "1       True\n",
      "2       True\n",
      "3      False\n",
      "4      False\n",
      "       ...  \n",
      "435    False\n",
      "436    False\n",
      "437    False\n",
      "438    False\n",
      "439    False\n",
      "Name: Qualification or relegation, Length: 440, dtype: bool\n"
     ]
    }
   ],
   "source": [
    "print(PLECLQualifiers)"
   ]
  },
  {
   "cell_type": "code",
   "execution_count": 222,
   "id": "a6388f10",
   "metadata": {},
   "outputs": [],
   "source": [
    "df.loc[:,'Qualified for CL'] = PLECLQualifiers"
   ]
  },
  {
   "cell_type": "code",
   "execution_count": 223,
   "id": "114972a0",
   "metadata": {},
   "outputs": [
    {
     "name": "stdout",
     "output_type": "stream",
     "text": [
      "      Season  Pos               Team  Pld   W   D   L  GF  GA  GD  Pts  \\\n",
      "0    2000-01    1  Manchester United   38  24   8   6  79  31  48   80   \n",
      "1    2000-01    2            Arsenal   38  20  10   8  63  38  25   70   \n",
      "2    2000-01    3          Liverpool   38  20   9   9  71  39  32   69   \n",
      "3    2000-01    4       Leeds United   38  20   8  10  64  43  21   68   \n",
      "4    2000-01    5       Ipswich Town   38  20   6  12  57  42  15   66   \n",
      "..       ...  ...                ...  ...  ..  ..  ..  ..  ..  ..  ...   \n",
      "435  2021-22   16            Everton   38  11   6  21  43  66 -23   39   \n",
      "436  2021-22   17       Leeds United   38   9  11  18  42  79 -37   38   \n",
      "437  2021-22   18            Burnley   38   7  14  17  34  53 -19   35   \n",
      "438  2021-22   19            Watford   38   6   5  27  34  77 -43   23   \n",
      "439  2021-22   20       Norwich City   38   5   7  26  23  84 -61   22   \n",
      "\n",
      "                           Qualification or relegation  Team_le  \\\n",
      "0    Qualification for the Champions League first g...       26   \n",
      "1    Qualification for the Champions League first g...        0   \n",
      "2    Qualification for the Champions League third q...       24   \n",
      "3        Qualification for the UEFA Cup first round[a]       22   \n",
      "4        Qualification for the UEFA Cup first round[a]       21   \n",
      "..                                                 ...      ...   \n",
      "435                                     Not Applicable       17   \n",
      "436                                     Not Applicable       22   \n",
      "437                 Relegation to the EFL Championship       10   \n",
      "438                 Relegation to the EFL Championship       39   \n",
      "439                 Relegation to the EFL Championship       29   \n",
      "\n",
      "     Qualified for CL  \n",
      "0                True  \n",
      "1                True  \n",
      "2                True  \n",
      "3               False  \n",
      "4               False  \n",
      "..                ...  \n",
      "435             False  \n",
      "436             False  \n",
      "437             False  \n",
      "438             False  \n",
      "439             False  \n",
      "\n",
      "[440 rows x 14 columns]\n"
     ]
    }
   ],
   "source": [
    "print(df)"
   ]
  },
  {
   "cell_type": "code",
   "execution_count": 224,
   "id": "31984d30",
   "metadata": {},
   "outputs": [],
   "source": [
    "X = df.drop(['Season', 'Pos','Team','Pld','W','D','GA','GD','Pts','Qualification or relegation','Qualified for CL'], axis=1).values\n",
    "y = df['Qualified for CL'].values"
   ]
  },
  {
   "cell_type": "code",
   "execution_count": 235,
   "id": "252e4656",
   "metadata": {},
   "outputs": [],
   "source": [
    "#print(X)"
   ]
  },
  {
   "cell_type": "code",
   "execution_count": 236,
   "id": "8a2f36ab",
   "metadata": {},
   "outputs": [],
   "source": [
    "#print(y)"
   ]
  },
  {
   "cell_type": "code",
   "execution_count": 237,
   "id": "bc9c71f8",
   "metadata": {},
   "outputs": [],
   "source": [
    "# Import necessary modules\n",
    "from sklearn.neighbors import KNeighborsClassifier\n",
    "from sklearn.model_selection import train_test_split"
   ]
  },
  {
   "cell_type": "code",
   "execution_count": 238,
   "id": "9ed541e6",
   "metadata": {},
   "outputs": [],
   "source": [
    "# Split into training and test set\n",
    "X_train, X_test, y_train, y_test = train_test_split(X, y, test_size = 0.3, random_state=42, stratify=y)"
   ]
  },
  {
   "cell_type": "code",
   "execution_count": 245,
   "id": "49a4c9ad",
   "metadata": {},
   "outputs": [],
   "source": [
    "# Create a k-NN classifier with 3 neighbors: knn\n",
    "knn= KNeighborsClassifier(n_neighbors=6, metric='euclidean')"
   ]
  },
  {
   "cell_type": "code",
   "execution_count": 246,
   "id": "5e59cd16",
   "metadata": {},
   "outputs": [
    {
     "data": {
      "text/plain": [
       "KNeighborsClassifier(metric='euclidean', n_neighbors=6)"
      ]
     },
     "execution_count": 246,
     "metadata": {},
     "output_type": "execute_result"
    }
   ],
   "source": [
    "# Fit the classifier to the training data\n",
    "knn.fit(X_train, y_train)"
   ]
  },
  {
   "cell_type": "code",
   "execution_count": 247,
   "id": "c4829e5a",
   "metadata": {},
   "outputs": [],
   "source": [
    "y_pred = knn.predict(X_test)"
   ]
  },
  {
   "cell_type": "code",
   "execution_count": 248,
   "id": "01a8482b",
   "metadata": {},
   "outputs": [
    {
     "name": "stdout",
     "output_type": "stream",
     "text": [
      "Test set predictions: [ True False False False False False False False  True False False  True\n",
      "  True False False False  True False False False False  True False False\n",
      " False False False False False False False False False False  True False\n",
      " False False False  True False False False  True False  True False False\n",
      " False False  True False False False False False False False False False\n",
      " False False False False False False False False False False  True False\n",
      " False False False False False False False  True  True False False False\n",
      " False False False  True False False  True False False False False False\n",
      " False False False False False False False False False False  True  True\n",
      "  True  True False False  True False False False False False False False\n",
      " False  True False False False False False False False False False False]\n"
     ]
    }
   ],
   "source": [
    "print(\"Test set predictions: {}\".format(y_pred))"
   ]
  },
  {
   "cell_type": "code",
   "execution_count": 249,
   "id": "384db257",
   "metadata": {},
   "outputs": [
    {
     "name": "stdout",
     "output_type": "stream",
     "text": [
      "0.9621212121212122\n"
     ]
    }
   ],
   "source": [
    "# Print the accuracy\n",
    "print(knn.score(X_test, y_test))"
   ]
  },
  {
   "cell_type": "code",
   "execution_count": null,
   "id": "1f46a08f",
   "metadata": {},
   "outputs": [],
   "source": []
  },
  {
   "cell_type": "code",
   "execution_count": 250,
   "id": "d55a3450",
   "metadata": {},
   "outputs": [
    {
     "data": {
      "image/png": "[encoded data removed]",
      "text/plain": [
       "<Figure size 432x288 with 1 Axes>"
      ]
     },
     "metadata": {
      "needs_background": "light"
     },
     "output_type": "display_data"
    }
   ],
   "source": [
    "# Setup arrays to store train and test accuracies\n",
    "neighbors = np.arange(1, 15)\n",
    "train_accuracy = np.empty(len(neighbors))\n",
    "test_accuracy = np.empty(len(neighbors))\n",
    "\n",
    "# Loop over different values of k\n",
    "for i, k in enumerate(neighbors):\n",
    "    # Setup a k-NN Classifier with k neighbors: knn\n",
    "    knn = KNeighborsClassifier(n_neighbors=k)\n",
    "\n",
    "    # Fit the classifier to the training data\n",
    "    knn.fit(X_train, y_train)\n",
    "    \n",
    "    #Compute accuracy on the training set\n",
    "    train_accuracy[i] = knn.score(X_train, y_train)\n",
    "\n",
    "    #Compute accuracy on the testing set\n",
    "    test_accuracy[i] = knn.score(X_test, y_test)\n",
    "\n",
    "# Generate plot\n",
    "plt.title('k-NN: Varying Number of Neighbors')\n",
    "plt.plot(neighbors, test_accuracy, label = 'Testing Accuracy')\n",
    "plt.plot(neighbors, train_accuracy, label = 'Training Accuracy')\n",
    "plt.legend()\n",
    "plt.xlabel('Number of Neighbors')\n",
    "plt.ylabel('Accuracy')\n",
    "plt.show()"
   ]
  },
  {
   "cell_type": "code",
   "execution_count": 258,
   "id": "41369a07",
   "metadata": {},
   "outputs": [
    {
     "name": "stdout",
     "output_type": "stream",
     "text": [
      "[False]\n"
     ]
    }
   ],
   "source": [
    "#LOST, Goals for, Team (LE)\n",
    "# 25 MANC | 41 WHU\n",
    "\n",
    "y_pred_temp = knn.predict([[3,70,41]])\n",
    "print(y_pred_temp)"
   ]
  },
  {
   "cell_type": "code",
   "execution_count": 152,
   "id": "4ec77fa0",
   "metadata": {},
   "outputs": [],
   "source": [
    "y_results = []\n",
    "goals_scored = np.arange(1, 100)\n",
    "for i, k in enumerate(goals_scored):\n",
    "    y_pred_temp = knn.predict([[38,i]])\n",
    "    y_results.append(y_pred_temp[0])"
   ]
  },
  {
   "cell_type": "code",
   "execution_count": 153,
   "id": "9d899226",
   "metadata": {},
   "outputs": [
    {
     "name": "stdout",
     "output_type": "stream",
     "text": [
      "[False, False, False, False, False, False, False, False, False, False, False, False, False, False, False, False, False, False, False, False, False, False, False, False, False, False, False, False, False, False, False, False, False, False, False, False, False, False, False, False, False, False, False, False, False, False, False, False, False, False, False, False, False, False, False, False, False, False, False, False, False, False, False, False, False, False, False, False, False, False, False, False, False, False, False, False, False, False, False, False, False, False, False, False, False, False, True, True, True, True, True, True, True, True, True, True, True, True, True]\n"
     ]
    }
   ],
   "source": [
    "print(y_results)"
   ]
  },
  {
   "cell_type": "code",
   "execution_count": 157,
   "id": "acb4879a",
   "metadata": {},
   "outputs": [
    {
     "name": "stdout",
     "output_type": "stream",
     "text": [
      "[False False  True False False False False False False False False False\n",
      "  True False False False  True False False False  True False  True  True\n",
      " False False False False False False  True False False False  True False\n",
      " False False False False  True  True False  True False False False False\n",
      " False False False False False False False False False False  True False\n",
      "  True False False False False False False  True  True  True False False\n",
      " False False False  True False False False False  True False  True False\n",
      " False False False False False False False False False False  True False\n",
      "  True False False False False False False  True False False False  True\n",
      " False False False False False False False False False False False False\n",
      " False  True False  True False  True False False False False False  True\n",
      " False False False False False False False False False False False False\n",
      " False False False False False  True False False False False False False\n",
      " False False False False  True False False  True False False False False\n",
      " False  True  True False False False False False False  True  True False\n",
      " False False False False False False  True False False False False False\n",
      "  True False False False False False False False False False False False\n",
      " False False False  True False False  True False False False False False\n",
      " False False False False False False False  True  True  True  True False\n",
      " False False  True False False False False  True  True False False False\n",
      " False False False False False  True False  True False  True  True False\n",
      " False False False False False False False False False  True False False\n",
      " False False False  True False False False False False False  True False\n",
      " False False False False False False  True  True  True False False  True\n",
      " False False  True False False  True  True False False  True False False\n",
      "  True  True False False False False False False]\n"
     ]
    }
   ],
   "source": [
    "print(y_train)"
   ]
  },
  {
   "cell_type": "code",
   "execution_count": null,
   "id": "50346fc5",
   "metadata": {},
   "outputs": [],
   "source": []
  }
 ],
 "metadata": {
  "kernelspec": {
   "display_name": "Python 3 (ipykernel)",
   "language": "python",
   "name": "python3"
  },
  "language_info": {
   "codemirror_mode": {
    "name": "ipython",
    "version": 3
   },
   "file_extension": ".py",
   "mimetype": "text/x-python",
   "name": "python",
   "nbconvert_exporter": "python",
   "pygments_lexer": "ipython3",
   "version": "3.9.7"
  }
 },
 "nbformat": 4,
 "nbformat_minor": 5
}
