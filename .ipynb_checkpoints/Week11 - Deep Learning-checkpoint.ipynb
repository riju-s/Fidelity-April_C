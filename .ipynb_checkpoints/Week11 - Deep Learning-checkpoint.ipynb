{
 "cells": [
  {
   "cell_type": "code",
   "execution_count": 1,
   "id": "3fa47faa",
   "metadata": {},
   "outputs": [],
   "source": [
    "#Forward propagation algorithms\n",
    "\n",
    "import numpy as np\n",
    "input_data = np.array([2,3])\n",
    "weights = {  'node_0': np.array([1,1]),\n",
    "             'node_1': np.array([-1,1]),\n",
    "             'output': np.array([2,-1])}\n",
    "node_0_value = (input_data * weights['node_0']).sum()\n",
    "node_1_value = (input_data * weights['node_1']).sum()"
   ]
  },
  {
   "cell_type": "code",
   "execution_count": 2,
   "id": "a7c619f4",
   "metadata": {},
   "outputs": [
    {
     "name": "stdout",
     "output_type": "stream",
     "text": [
      "[5 1]\n"
     ]
    }
   ],
   "source": [
    "hidden_layer_values =  np.array([node_0_value, node_1_value])\n",
    "print(hidden_layer_values)"
   ]
  },
  {
   "cell_type": "code",
   "execution_count": 3,
   "id": "ea6448cd",
   "metadata": {},
   "outputs": [
    {
     "name": "stdout",
     "output_type": "stream",
     "text": [
      "9\n"
     ]
    }
   ],
   "source": [
    "output = (hidden_layer_values * weights['output']).sum()\n",
    "print(output)"
   ]
  },
  {
   "cell_type": "code",
   "execution_count": 6,
   "id": "5b7054ae",
   "metadata": {},
   "outputs": [
    {
     "name": "stdout",
     "output_type": "stream",
     "text": [
      "1.2382242525694254\n"
     ]
    }
   ],
   "source": [
    "#Activation functions\n",
    "\n",
    "import numpy as np\n",
    "input_data = np.array([2,3])\n",
    "weights = {  'node_0': np.array([1,1]),\n",
    "             'node_1': np.array([-1,1]),\n",
    "             'output': np.array([2,-1])}\n",
    "\n",
    "node_0_input = (input_data * weights['node_0']).sum()\n",
    "node_0_output = np.tanh(node_0_input)\n",
    "\n",
    "node_1_input = (input_data * weights['node_1']).sum()\n",
    "node_1_output = np.tanh(node_1_input)\n",
    "\n",
    "hidden_layer_outputs =  np.array([node_0_output, node_1_output])\n",
    "output = (hidden_layer_outputs * weights['output']).sum()\n",
    "print(output)"
   ]
  },
  {
   "cell_type": "code",
   "execution_count": null,
   "id": "1618bbc5",
   "metadata": {},
   "outputs": [],
   "source": []
  }
 ],
 "metadata": {
  "kernelspec": {
   "display_name": "Python 3 (ipykernel)",
   "language": "python",
   "name": "python3"
  },
  "language_info": {
   "codemirror_mode": {
    "name": "ipython",
    "version": 3
   },
   "file_extension": ".py",
   "mimetype": "text/x-python",
   "name": "python",
   "nbconvert_exporter": "python",
   "pygments_lexer": "ipython3",
   "version": "3.9.7"
  }
 },
 "nbformat": 4,
 "nbformat_minor": 5
}
