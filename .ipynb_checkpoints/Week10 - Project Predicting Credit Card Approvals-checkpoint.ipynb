{
 "cells": [
  {
   "cell_type": "code",
   "execution_count": 1,
   "id": "366c5e7e",
   "metadata": {},
   "outputs": [],
   "source": [
    "# Import pandas\n",
    "import pandas as pd"
   ]
  },
  {
   "cell_type": "code",
   "execution_count": 2,
   "id": "feb74b34",
   "metadata": {},
   "outputs": [],
   "source": [
    "# Load dataset\n",
    "cc_apps = pd.read_csv(\"data/cc_approvals.data\", header=None)\n",
    "headers = [\"Gender\", \"Age\", \"Debt\", \"Married\", \n",
    "           \"BankCustomer\", \"EducationLevel\", \"Ethnicity\", \n",
    "           \"YearsEmployed\", \"PriorDefault\", \"Employed\", \"CreditScore\",\n",
    "           \"DriversLicense\", \"Citizen\", \"ZipCode\", \"Income\", \"ApprovalStatus\"]\n",
    "cc_apps.columns = headers"
   ]
  },
  {
   "cell_type": "code",
   "execution_count": 3,
   "id": "5d4c707c",
   "metadata": {},
   "outputs": [
    {
     "name": "stdout",
     "output_type": "stream",
     "text": [
      "  Gender    Age   Debt Married BankCustomer EducationLevel Ethnicity  \\\n",
      "0      b  30.83  0.000       u            g              w         v   \n",
      "1      a  58.67  4.460       u            g              q         h   \n",
      "2      a  24.50  0.500       u            g              q         h   \n",
      "3      b  27.83  1.540       u            g              w         v   \n",
      "4      b  20.17  5.625       u            g              w         v   \n",
      "\n",
      "   YearsEmployed PriorDefault Employed  CreditScore DriversLicense Citizen  \\\n",
      "0           1.25            t        t            1              f       g   \n",
      "1           3.04            t        t            6              f       g   \n",
      "2           1.50            t        f            0              f       g   \n",
      "3           3.75            t        t            5              t       g   \n",
      "4           1.71            t        f            0              f       s   \n",
      "\n",
      "  ZipCode  Income ApprovalStatus  \n",
      "0   00202       0              +  \n",
      "1   00043     560              +  \n",
      "2   00280     824              +  \n",
      "3   00100       3              +  \n",
      "4   00120       0              +  \n"
     ]
    }
   ],
   "source": [
    "# Inspect data\n",
    "print(cc_apps.head())"
   ]
  },
  {
   "cell_type": "code",
   "execution_count": 6,
   "id": "5fc636b5",
   "metadata": {},
   "outputs": [
    {
     "name": "stdout",
     "output_type": "stream",
     "text": [
      "             Debt  YearsEmployed  CreditScore         Income\n",
      "count  690.000000     690.000000    690.00000     690.000000\n",
      "mean     4.758725       2.223406      2.40000    1017.385507\n",
      "std      4.978163       3.346513      4.86294    5210.102598\n",
      "min      0.000000       0.000000      0.00000       0.000000\n",
      "25%      1.000000       0.165000      0.00000       0.000000\n",
      "50%      2.750000       1.000000      0.00000       5.000000\n",
      "75%      7.207500       2.625000      3.00000     395.500000\n",
      "max     28.000000      28.500000     67.00000  100000.000000\n",
      "\n",
      "\n",
      "<class 'pandas.core.frame.DataFrame'>\n",
      "RangeIndex: 690 entries, 0 to 689\n",
      "Data columns (total 16 columns):\n",
      " #   Column          Non-Null Count  Dtype  \n",
      "---  ------          --------------  -----  \n",
      " 0   Gender          690 non-null    object \n",
      " 1   Age             690 non-null    object \n",
      " 2   Debt            690 non-null    float64\n",
      " 3   Married         690 non-null    object \n",
      " 4   BankCustomer    690 non-null    object \n",
      " 5   EducationLevel  690 non-null    object \n",
      " 6   Ethnicity       690 non-null    object \n",
      " 7   YearsEmployed   690 non-null    float64\n",
      " 8   PriorDefault    690 non-null    object \n",
      " 9   Employed        690 non-null    object \n",
      " 10  CreditScore     690 non-null    int64  \n",
      " 11  DriversLicense  690 non-null    object \n",
      " 12  Citizen         690 non-null    object \n",
      " 13  ZipCode         690 non-null    object \n",
      " 14  Income          690 non-null    int64  \n",
      " 15  ApprovalStatus  690 non-null    object \n",
      "dtypes: float64(2), int64(2), object(12)\n",
      "memory usage: 86.4+ KB\n",
      "None\n",
      "\n",
      "\n",
      "    Gender    Age    Debt Married BankCustomer EducationLevel Ethnicity  \\\n",
      "673      ?  29.50   2.000       y            p              e         h   \n",
      "674      a  37.33   2.500       u            g              i         h   \n",
      "675      a  41.58   1.040       u            g             aa         v   \n",
      "676      a  30.58  10.665       u            g              q         h   \n",
      "677      b  19.42   7.250       u            g              m         v   \n",
      "678      a  17.92  10.210       u            g             ff        ff   \n",
      "679      a  20.08   1.250       u            g              c         v   \n",
      "680      b  19.50   0.290       u            g              k         v   \n",
      "681      b  27.83   1.000       y            p              d         h   \n",
      "682      b  17.08   3.290       u            g              i         v   \n",
      "683      b  36.42   0.750       y            p              d         v   \n",
      "684      b  40.58   3.290       u            g              m         v   \n",
      "685      b  21.08  10.085       y            p              e         h   \n",
      "686      a  22.67   0.750       u            g              c         v   \n",
      "687      a  25.25  13.500       y            p             ff        ff   \n",
      "688      b  17.92   0.205       u            g             aa         v   \n",
      "689      b  35.00   3.375       u            g              c         h   \n",
      "\n",
      "     YearsEmployed PriorDefault Employed  CreditScore DriversLicense Citizen  \\\n",
      "673          2.000            f        f            0              f       g   \n",
      "674          0.210            f        f            0              f       g   \n",
      "675          0.665            f        f            0              f       g   \n",
      "676          0.085            f        t           12              t       g   \n",
      "677          0.040            f        t            1              f       g   \n",
      "678          0.000            f        f            0              f       g   \n",
      "679          0.000            f        f            0              f       g   \n",
      "680          0.290            f        f            0              f       g   \n",
      "681          3.000            f        f            0              f       g   \n",
      "682          0.335            f        f            0              t       g   \n",
      "683          0.585            f        f            0              f       g   \n",
      "684          3.500            f        f            0              t       s   \n",
      "685          1.250            f        f            0              f       g   \n",
      "686          2.000            f        t            2              t       g   \n",
      "687          2.000            f        t            1              t       g   \n",
      "688          0.040            f        f            0              f       g   \n",
      "689          8.290            f        f            0              t       g   \n",
      "\n",
      "    ZipCode  Income ApprovalStatus  \n",
      "673   00256      17              -  \n",
      "674   00260     246              -  \n",
      "675   00240     237              -  \n",
      "676   00129       3              -  \n",
      "677   00100       1              -  \n",
      "678   00000      50              -  \n",
      "679   00000       0              -  \n",
      "680   00280     364              -  \n",
      "681   00176     537              -  \n",
      "682   00140       2              -  \n",
      "683   00240       3              -  \n",
      "684   00400       0              -  \n",
      "685   00260       0              -  \n",
      "686   00200     394              -  \n",
      "687   00200       1              -  \n",
      "688   00280     750              -  \n",
      "689   00000       0              -  \n"
     ]
    }
   ],
   "source": [
    "# Print summary statistics\n",
    "cc_apps_description = cc_apps.describe()\n",
    "print(cc_apps_description)\n",
    "\n",
    "print('\\n')\n",
    "\n",
    "# Print DataFrame information\n",
    "cc_apps_info = cc_apps.info()\n",
    "print(cc_apps_info)\n",
    "\n",
    "print('\\n')\n",
    "\n",
    "# Inspect missing values in the dataset\n",
    "print(cc_apps.tail(17))"
   ]
  },
  {
   "cell_type": "code",
   "execution_count": 7,
   "id": "d0fc788c",
   "metadata": {},
   "outputs": [],
   "source": [
    "# Import train_test_split\n",
    "from sklearn.model_selection import train_test_split\n",
    "\n",
    "# Drop the features 11 and 13\n",
    "cc_apps = cc_apps.drop([\"DriversLicense\",\"ZipCode\"], axis=1)\n",
    "\n",
    "# Split into train and test sets\n",
    "cc_apps_train, cc_apps_test = train_test_split(cc_apps, test_size=0.33, random_state=42)"
   ]
  },
  {
   "cell_type": "code",
   "execution_count": null,
   "id": "73ab4c37",
   "metadata": {},
   "outputs": [],
   "source": []
  }
 ],
 "metadata": {
  "kernelspec": {
   "display_name": "Python 3 (ipykernel)",
   "language": "python",
   "name": "python3"
  },
  "language_info": {
   "codemirror_mode": {
    "name": "ipython",
    "version": 3
   },
   "file_extension": ".py",
   "mimetype": "text/x-python",
   "name": "python",
   "nbconvert_exporter": "python",
   "pygments_lexer": "ipython3",
   "version": "3.9.7"
  }
 },
 "nbformat": 4,
 "nbformat_minor": 5
}
