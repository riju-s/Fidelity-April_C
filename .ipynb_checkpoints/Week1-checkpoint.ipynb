{
 "cells": [
  {
   "cell_type": "markdown",
   "id": "b3f85db7",
   "metadata": {},
   "source": [
    "## "
   ]
  },
  {
   "cell_type": "code",
   "execution_count": 21,
   "id": "461d1769",
   "metadata": {},
   "outputs": [],
   "source": [
    "a=2"
   ]
  },
  {
   "cell_type": "code",
   "execution_count": 22,
   "id": "7abbd0b3",
   "metadata": {},
   "outputs": [],
   "source": [
    "b=3"
   ]
  },
  {
   "cell_type": "code",
   "execution_count": 36,
   "id": "588a31a8",
   "metadata": {},
   "outputs": [],
   "source": [
    "add=a+b"
   ]
  },
  {
   "cell_type": "code",
   "execution_count": null,
   "id": "8c370533",
   "metadata": {},
   "outputs": [],
   "source": [
    "subtract=a-b"
   ]
  },
  {
   "cell_type": "code",
   "execution_count": 25,
   "id": "7eeb894c",
   "metadata": {},
   "outputs": [],
   "source": [
    "multiply=a*b"
   ]
  },
  {
   "cell_type": "code",
   "execution_count": 26,
   "id": "b53381d9",
   "metadata": {},
   "outputs": [],
   "source": [
    "divide=a/b"
   ]
  },
  {
   "cell_type": "code",
   "execution_count": 27,
   "id": "12e0f37e",
   "metadata": {},
   "outputs": [],
   "source": [
    "power=a**b"
   ]
  },
  {
   "cell_type": "code",
   "execution_count": 28,
   "id": "07413530",
   "metadata": {},
   "outputs": [],
   "source": [
    "modulus=a//b"
   ]
  },
  {
   "cell_type": "code",
   "execution_count": 29,
   "id": "bf776756",
   "metadata": {},
   "outputs": [],
   "source": [
    "modulus=a%b"
   ]
  },
  {
   "cell_type": "code",
   "execution_count": 38,
   "id": "fe0ab119",
   "metadata": {},
   "outputs": [],
   "source": [
    "floor_divide=a//b"
   ]
  },
  {
   "cell_type": "code",
   "execution_count": 39,
   "id": "610cb136",
   "metadata": {},
   "outputs": [
    {
     "name": "stdout",
     "output_type": "stream",
     "text": [
      "5\n",
      "-1\n",
      "6\n",
      "0.6666666666666666\n",
      "8\n",
      "2\n",
      "0\n"
     ]
    }
   ],
   "source": [
    "print(add)\n",
    "print(subtract)\n",
    "print(multiply)\n",
    "print(divide)\n",
    "print(power)\n",
    "print(modulus)\n",
    "print(floor_divide)"
   ]
  },
  {
   "cell_type": "code",
   "execution_count": null,
   "id": "089b16c2",
   "metadata": {},
   "outputs": [],
   "source": []
  }
 ],
 "metadata": {
  "kernelspec": {
   "display_name": "Python 3 (ipykernel)",
   "language": "python",
   "name": "python3"
  },
  "language_info": {
   "codemirror_mode": {
    "name": "ipython",
    "version": 3
   },
   "file_extension": ".py",
   "mimetype": "text/x-python",
   "name": "python",
   "nbconvert_exporter": "python",
   "pygments_lexer": "ipython3",
   "version": "3.9.7"
  }
 },
 "nbformat": 4,
 "nbformat_minor": 5
}
