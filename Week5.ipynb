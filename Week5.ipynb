{
 "cells": [
  {
   "cell_type": "code",
   "execution_count": 1,
   "id": "87d57eb4",
   "metadata": {},
   "outputs": [],
   "source": [
    "import re"
   ]
  },
  {
   "cell_type": "code",
   "execution_count": 2,
   "id": "0af45f65",
   "metadata": {},
   "outputs": [],
   "source": [
    "# re.findall(\"pattern\",\"sentence\")"
   ]
  },
  {
   "cell_type": "code",
   "execution_count": 3,
   "id": "70aec4e6",
   "metadata": {},
   "outputs": [
    {
     "data": {
      "text/plain": [
       "['Class', 'Class']"
      ]
     },
     "execution_count": 3,
     "metadata": {},
     "output_type": "execute_result"
    }
   ],
   "source": [
    "re.findall(\"Class\",\"Welcome Classs to RE Class\")"
   ]
  },
  {
   "cell_type": "code",
   "execution_count": 4,
   "id": "14564c49",
   "metadata": {},
   "outputs": [
    {
     "data": {
      "text/plain": [
       "['Nice place', ' We should come back', '']"
      ]
     },
     "execution_count": 4,
     "metadata": {},
     "output_type": "execute_result"
    }
   ],
   "source": [
    "re.split(r\"!\",\"Nice place! We should come back!\")"
   ]
  },
  {
   "cell_type": "code",
   "execution_count": 5,
   "id": "78a2c903",
   "metadata": {},
   "outputs": [
    {
     "data": {
      "text/plain": [
       "'I have a blue car'"
      ]
     },
     "execution_count": 5,
     "metadata": {},
     "output_type": "execute_result"
    }
   ],
   "source": [
    "re.sub(r\"red\", \"blue\", \"I have a red car\")"
   ]
  },
  {
   "cell_type": "code",
   "execution_count": 7,
   "id": "72bbd6e0",
   "metadata": {},
   "outputs": [],
   "source": [
    "# Use regex.com for testing regular expressions"
   ]
  },
  {
   "cell_type": "code",
   "execution_count": 9,
   "id": "1f7341c2",
   "metadata": {},
   "outputs": [
    {
     "data": {
      "text/plain": [
       "['$1', '$2', '$3']"
      ]
     },
     "execution_count": 9,
     "metadata": {},
     "output_type": "execute_result"
    }
   ],
   "source": [
    "re.findall(r\"\\$\\d\", \" The price is: $1,$2,$3\")"
   ]
  },
  {
   "cell_type": "code",
   "execution_count": 10,
   "id": "f65b4abd",
   "metadata": {},
   "outputs": [
    {
     "data": {
      "text/plain": [
       "['$1', '$2', '$3', '$3']"
      ]
     },
     "execution_count": 10,
     "metadata": {},
     "output_type": "execute_result"
    }
   ],
   "source": [
    "re.findall(r\"\\W\\d\", \" The price is: $1,$2,$300, $33\")"
   ]
  },
  {
   "cell_type": "code",
   "execution_count": 13,
   "id": "f1a46135",
   "metadata": {},
   "outputs": [
    {
     "data": {
      "text/plain": [
       "['$1', '$2', '$3', '$3', '$']"
      ]
     },
     "execution_count": 13,
     "metadata": {},
     "output_type": "execute_result"
    }
   ],
   "source": [
    "re.findall(r\"\\$\\d?\", \" The price is: $1,$2,$300, $33, $\")"
   ]
  },
  {
   "cell_type": "code",
   "execution_count": 14,
   "id": "bd421a4b",
   "metadata": {},
   "outputs": [
    {
     "data": {
      "text/plain": [
       "['$1', '$2', '$300', '$33']"
      ]
     },
     "execution_count": 14,
     "metadata": {},
     "output_type": "execute_result"
    }
   ],
   "source": [
    "re.findall(r\"\\$\\d+\", \" The price is: $1,$2,$300, $33, $\")"
   ]
  },
  {
   "cell_type": "code",
   "execution_count": 16,
   "id": "96a0524f",
   "metadata": {},
   "outputs": [
    {
     "data": {
      "text/plain": [
       "['$1', '$2', '$300', '$33', '$']"
      ]
     },
     "execution_count": 16,
     "metadata": {},
     "output_type": "execute_result"
    }
   ],
   "source": [
    "re.findall(r\"\\$\\d*\", \" The price is: $1,$2,$300, $33, $, 666\")"
   ]
  },
  {
   "cell_type": "code",
   "execution_count": 17,
   "id": "a355843a",
   "metadata": {},
   "outputs": [
    {
     "data": {
      "text/plain": [
       "['$1', '$2', '$300', '$33', '$']"
      ]
     },
     "execution_count": 17,
     "metadata": {},
     "output_type": "execute_result"
    }
   ],
   "source": [
    "re.findall(r\"\\$\\d*\", \" The price is: $1,$2,$300, $33.20, $, 666\")"
   ]
  },
  {
   "cell_type": "code",
   "execution_count": 18,
   "id": "86940cdc",
   "metadata": {},
   "outputs": [
    {
     "data": {
      "text/plain": [
       "['$6667']"
      ]
     },
     "execution_count": 18,
     "metadata": {},
     "output_type": "execute_result"
    }
   ],
   "source": [
    "re.findall(r\"\\$\\d{4}\", \" The price is: $1,$2,$300, $33.20, $, $666777777\")"
   ]
  },
  {
   "cell_type": "code",
   "execution_count": 19,
   "id": "34836b6d",
   "metadata": {},
   "outputs": [
    {
     "data": {
      "text/plain": [
       "['$33']"
      ]
     },
     "execution_count": 19,
     "metadata": {},
     "output_type": "execute_result"
    }
   ],
   "source": [
    "re.findall(r\"\\$\\d[1-4]\", \" The price is: $1,$2,$300, $33.20, $, $666777777\")"
   ]
  },
  {
   "cell_type": "code",
   "execution_count": 26,
   "id": "ff086bf4",
   "metadata": {},
   "outputs": [
    {
     "data": {
      "text/plain": [
       "['+352 9876 4444 10', '+44 7953 3333 22']"
      ]
     },
     "execution_count": 26,
     "metadata": {},
     "output_type": "execute_result"
    }
   ],
   "source": [
    "re.findall(r\"\\+\\d{2,3}\\s\\d{4}\\s\\d{4}\\s\\d{2}\", \"ssss +352 9876 4444 10 ccccc +44 7953 3333 22\")"
   ]
  },
  {
   "cell_type": "code",
   "execution_count": 27,
   "id": "30fc4335",
   "metadata": {},
   "outputs": [],
   "source": [
    "#  ? Zero or One occurance\n",
    "#  + One or more occurance\n",
    "#  * Zero or more occurance"
   ]
  },
  {
   "cell_type": "code",
   "execution_count": 41,
   "id": "e54cc022",
   "metadata": {},
   "outputs": [
    {
     "data": {
      "text/plain": [
       "['riju@gmail.com', 'abc@xyz.co.uk']"
      ]
     },
     "execution_count": 41,
     "metadata": {},
     "output_type": "execute_result"
    }
   ],
   "source": [
    "re.findall(r\"\\w+\\@\\w+\\.\\w+\\.?\\w+\", \"riju@gmail.com ssss abc@xyz.co.uk\")"
   ]
  },
  {
   "cell_type": "code",
   "execution_count": 43,
   "id": "e3c82dba",
   "metadata": {},
   "outputs": [
    {
     "data": {
      "text/plain": [
       "['']"
      ]
     },
     "execution_count": 43,
     "metadata": {},
     "output_type": "execute_result"
    }
   ],
   "source": []
  },
  {
   "cell_type": "code",
   "execution_count": null,
   "id": "a9957d8b",
   "metadata": {},
   "outputs": [],
   "source": []
  }
 ],
 "metadata": {
  "kernelspec": {
   "display_name": "Python 3 (ipykernel)",
   "language": "python",
   "name": "python3"
  },
  "language_info": {
   "codemirror_mode": {
    "name": "ipython",
    "version": 3
   },
   "file_extension": ".py",
   "mimetype": "text/x-python",
   "name": "python",
   "nbconvert_exporter": "python",
   "pygments_lexer": "ipython3",
   "version": "3.9.7"
  }
 },
 "nbformat": 4,
 "nbformat_minor": 5
}
