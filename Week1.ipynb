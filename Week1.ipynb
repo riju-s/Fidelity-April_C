{
 "cells": [
  {
   "cell_type": "markdown",
   "id": "b3f85db7",
   "metadata": {},
   "source": [
    "## "
   ]
  },
  {
   "cell_type": "code",
   "execution_count": 1,
   "id": "461d1769",
   "metadata": {},
   "outputs": [],
   "source": [
    "a=5"
   ]
  },
  {
   "cell_type": "code",
   "execution_count": 2,
   "id": "7abbd0b3",
   "metadata": {},
   "outputs": [],
   "source": [
    "b=3"
   ]
  },
  {
   "cell_type": "code",
   "execution_count": 3,
   "id": "588a31a8",
   "metadata": {},
   "outputs": [],
   "source": [
    "add=a+b"
   ]
  },
  {
   "cell_type": "code",
   "execution_count": 4,
   "id": "8c370533",
   "metadata": {},
   "outputs": [],
   "source": [
    "subtract=a-b"
   ]
  },
  {
   "cell_type": "code",
   "execution_count": 5,
   "id": "7eeb894c",
   "metadata": {},
   "outputs": [],
   "source": [
    "multiply=a*b"
   ]
  },
  {
   "cell_type": "code",
   "execution_count": 6,
   "id": "b53381d9",
   "metadata": {},
   "outputs": [],
   "source": [
    "divide=a/b"
   ]
  },
  {
   "cell_type": "code",
   "execution_count": 7,
   "id": "12e0f37e",
   "metadata": {},
   "outputs": [],
   "source": [
    "power=a**b"
   ]
  },
  {
   "cell_type": "code",
   "execution_count": 8,
   "id": "07413530",
   "metadata": {},
   "outputs": [],
   "source": [
    "modulus=a//b"
   ]
  },
  {
   "cell_type": "code",
   "execution_count": 9,
   "id": "bf776756",
   "metadata": {},
   "outputs": [],
   "source": [
    "modulus=a%b"
   ]
  },
  {
   "cell_type": "code",
   "execution_count": 10,
   "id": "fe0ab119",
   "metadata": {},
   "outputs": [],
   "source": [
    "floor_divide=a//b"
   ]
  },
  {
   "cell_type": "code",
   "execution_count": 11,
   "id": "610cb136",
   "metadata": {},
   "outputs": [
    {
     "name": "stdout",
     "output_type": "stream",
     "text": [
      "8\n",
      "2\n",
      "15\n",
      "1.6666666666666667\n",
      "125\n",
      "2\n",
      "1\n"
     ]
    }
   ],
   "source": [
    "print(add)\n",
    "print(subtract)\n",
    "print(multiply)\n",
    "print(divide)\n",
    "print(power)\n",
    "print(modulus)\n",
    "print(floor_divide)"
   ]
  },
  {
   "cell_type": "code",
   "execution_count": null,
   "id": "089b16c2",
   "metadata": {},
   "outputs": [],
   "source": []
  }
 ],
 "metadata": {
  "kernelspec": {
   "display_name": "Python 3 (ipykernel)",
   "language": "python",
   "name": "python3"
  },
  "language_info": {
   "codemirror_mode": {
    "name": "ipython",
    "version": 3
   },
   "file_extension": ".py",
   "mimetype": "text/x-python",
   "name": "python",
   "nbconvert_exporter": "python",
   "pygments_lexer": "ipython3",
   "version": "3.9.7"
  }
 },
 "nbformat": 4,
 "nbformat_minor": 5
}
